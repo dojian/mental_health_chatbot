{
 "cells": [
  {
   "cell_type": "markdown",
   "id": "b3a9883f-2a7c-4d18-b174-18f6b00c345b",
   "metadata": {},
   "source": [
    "# Reference: https://github.com/vinayak-shanawad/AI-ML-Projects/blob/main/AWS-SageMaker-Examples/03_MultiModelEndpointWithHuggingFace/huggingface-sagemaker-multi-model-endpoint.ipynb"
   ]
  },
  {
   "cell_type": "markdown",
   "id": "042853ed-c049-4758-a23c-dea8cfef231e",
   "metadata": {},
   "source": [
    "# Upload models into S3 bucket"
   ]
  },
  {
   "cell_type": "code",
   "execution_count": 1,
   "id": "1be52c58-26ed-411b-b7bf-7eadb1523a63",
   "metadata": {},
   "outputs": [
    {
     "name": "stderr",
     "output_type": "stream",
     "text": [
      "/home/ec2-user/anaconda3/envs/pytorch_p310/lib/python3.10/site-packages/pydantic/_internal/_fields.py:192: UserWarning: Field name \"json\" in \"MonitoringDatasetFormat\" shadows an attribute in parent \"Base\"\n",
      "  warnings.warn(\n"
     ]
    },
    {
     "data": {
      "text/html": [
       "<pre style=\"white-space:pre;overflow-x:auto;line-height:normal;font-family:Menlo,'DejaVu Sans Mono',consolas,'Courier New',monospace\"><span style=\"color: #7fbfbf; text-decoration-color: #7fbfbf\">[03/16/25 20:42:02] </span><span style=\"color: #0069ff; text-decoration-color: #0069ff; font-weight: bold\">INFO    </span> Found credentials from IAM Role:                                   <a href=\"file:///home/ec2-user/anaconda3/envs/pytorch_p310/lib/python3.10/site-packages/botocore/credentials.py\" target=\"_blank\"><span style=\"color: #7f7f7f; text-decoration-color: #7f7f7f\">credentials.py</span></a><span style=\"color: #7f7f7f; text-decoration-color: #7f7f7f\">:</span><a href=\"file:///home/ec2-user/anaconda3/envs/pytorch_p310/lib/python3.10/site-packages/botocore/credentials.py#1132\" target=\"_blank\"><span style=\"color: #7f7f7f; text-decoration-color: #7f7f7f\">1132</span></a>\n",
       "<span style=\"color: #7fbfbf; text-decoration-color: #7fbfbf\">                    </span>         BaseNotebookInstanceEc2InstanceRole                                <span style=\"color: #7f7f7f; text-decoration-color: #7f7f7f\">                   </span>\n",
       "</pre>\n"
      ],
      "text/plain": [
       "\u001b[2;36m[03/16/25 20:42:02]\u001b[0m\u001b[2;36m \u001b[0m\u001b[1;38;2;0;105;255mINFO    \u001b[0m Found credentials from IAM Role:                                   \u001b]8;id=914561;file:///home/ec2-user/anaconda3/envs/pytorch_p310/lib/python3.10/site-packages/botocore/credentials.py\u001b\\\u001b[2mcredentials.py\u001b[0m\u001b]8;;\u001b\\\u001b[2m:\u001b[0m\u001b]8;id=69634;file:///home/ec2-user/anaconda3/envs/pytorch_p310/lib/python3.10/site-packages/botocore/credentials.py#1132\u001b\\\u001b[2m1132\u001b[0m\u001b]8;;\u001b\\\n",
       "\u001b[2;36m                    \u001b[0m         BaseNotebookInstanceEc2InstanceRole                                \u001b[2m                   \u001b[0m\n"
      ]
     },
     "metadata": {},
     "output_type": "display_data"
    },
    {
     "name": "stdout",
     "output_type": "stream",
     "text": [
      "sagemaker.config INFO - Not applying SDK defaults from location: /etc/xdg/sagemaker/config.yaml\n",
      "sagemaker.config INFO - Not applying SDK defaults from location: /home/ec2-user/.config/sagemaker/config.yaml\n"
     ]
    },
    {
     "data": {
      "text/html": [
       "<pre style=\"white-space:pre;overflow-x:auto;line-height:normal;font-family:Menlo,'DejaVu Sans Mono',consolas,'Courier New',monospace\"><span style=\"color: #7fbfbf; text-decoration-color: #7fbfbf\">[03/16/25 20:42:03] </span><span style=\"color: #0069ff; text-decoration-color: #0069ff; font-weight: bold\">INFO    </span> Found credentials from IAM Role:                                   <a href=\"file:///home/ec2-user/anaconda3/envs/pytorch_p310/lib/python3.10/site-packages/botocore/credentials.py\" target=\"_blank\"><span style=\"color: #7f7f7f; text-decoration-color: #7f7f7f\">credentials.py</span></a><span style=\"color: #7f7f7f; text-decoration-color: #7f7f7f\">:</span><a href=\"file:///home/ec2-user/anaconda3/envs/pytorch_p310/lib/python3.10/site-packages/botocore/credentials.py#1132\" target=\"_blank\"><span style=\"color: #7f7f7f; text-decoration-color: #7f7f7f\">1132</span></a>\n",
       "<span style=\"color: #7fbfbf; text-decoration-color: #7fbfbf\">                    </span>         BaseNotebookInstanceEc2InstanceRole                                <span style=\"color: #7f7f7f; text-decoration-color: #7f7f7f\">                   </span>\n",
       "</pre>\n"
      ],
      "text/plain": [
       "\u001b[2;36m[03/16/25 20:42:03]\u001b[0m\u001b[2;36m \u001b[0m\u001b[1;38;2;0;105;255mINFO    \u001b[0m Found credentials from IAM Role:                                   \u001b]8;id=218427;file:///home/ec2-user/anaconda3/envs/pytorch_p310/lib/python3.10/site-packages/botocore/credentials.py\u001b\\\u001b[2mcredentials.py\u001b[0m\u001b]8;;\u001b\\\u001b[2m:\u001b[0m\u001b]8;id=258714;file:///home/ec2-user/anaconda3/envs/pytorch_p310/lib/python3.10/site-packages/botocore/credentials.py#1132\u001b\\\u001b[2m1132\u001b[0m\u001b]8;;\u001b\\\n",
       "\u001b[2;36m                    \u001b[0m         BaseNotebookInstanceEc2InstanceRole                                \u001b[2m                   \u001b[0m\n"
      ]
     },
     "metadata": {},
     "output_type": "display_data"
    },
    {
     "data": {
      "text/html": [
       "<pre style=\"white-space:pre;overflow-x:auto;line-height:normal;font-family:Menlo,'DejaVu Sans Mono',consolas,'Courier New',monospace\"><span style=\"color: #7fbfbf; text-decoration-color: #7fbfbf\">[03/16/25 20:42:04] </span><span style=\"color: #0069ff; text-decoration-color: #0069ff; font-weight: bold\">INFO    </span> Found credentials from IAM Role:                                   <a href=\"file:///home/ec2-user/anaconda3/envs/pytorch_p310/lib/python3.10/site-packages/botocore/credentials.py\" target=\"_blank\"><span style=\"color: #7f7f7f; text-decoration-color: #7f7f7f\">credentials.py</span></a><span style=\"color: #7f7f7f; text-decoration-color: #7f7f7f\">:</span><a href=\"file:///home/ec2-user/anaconda3/envs/pytorch_p310/lib/python3.10/site-packages/botocore/credentials.py#1132\" target=\"_blank\"><span style=\"color: #7f7f7f; text-decoration-color: #7f7f7f\">1132</span></a>\n",
       "<span style=\"color: #7fbfbf; text-decoration-color: #7fbfbf\">                    </span>         BaseNotebookInstanceEc2InstanceRole                                <span style=\"color: #7f7f7f; text-decoration-color: #7f7f7f\">                   </span>\n",
       "</pre>\n"
      ],
      "text/plain": [
       "\u001b[2;36m[03/16/25 20:42:04]\u001b[0m\u001b[2;36m \u001b[0m\u001b[1;38;2;0;105;255mINFO    \u001b[0m Found credentials from IAM Role:                                   \u001b]8;id=566448;file:///home/ec2-user/anaconda3/envs/pytorch_p310/lib/python3.10/site-packages/botocore/credentials.py\u001b\\\u001b[2mcredentials.py\u001b[0m\u001b]8;;\u001b\\\u001b[2m:\u001b[0m\u001b]8;id=300138;file:///home/ec2-user/anaconda3/envs/pytorch_p310/lib/python3.10/site-packages/botocore/credentials.py#1132\u001b\\\u001b[2m1132\u001b[0m\u001b]8;;\u001b\\\n",
       "\u001b[2;36m                    \u001b[0m         BaseNotebookInstanceEc2InstanceRole                                \u001b[2m                   \u001b[0m\n"
      ]
     },
     "metadata": {},
     "output_type": "display_data"
    },
    {
     "data": {
      "text/html": [
       "<pre style=\"white-space:pre;overflow-x:auto;line-height:normal;font-family:Menlo,'DejaVu Sans Mono',consolas,'Courier New',monospace\"><span style=\"color: #7fbfbf; text-decoration-color: #7fbfbf\">                    </span><span style=\"color: #0069ff; text-decoration-color: #0069ff; font-weight: bold\">INFO    </span> Found credentials from IAM Role:                                   <a href=\"file:///home/ec2-user/anaconda3/envs/pytorch_p310/lib/python3.10/site-packages/botocore/credentials.py\" target=\"_blank\"><span style=\"color: #7f7f7f; text-decoration-color: #7f7f7f\">credentials.py</span></a><span style=\"color: #7f7f7f; text-decoration-color: #7f7f7f\">:</span><a href=\"file:///home/ec2-user/anaconda3/envs/pytorch_p310/lib/python3.10/site-packages/botocore/credentials.py#1132\" target=\"_blank\"><span style=\"color: #7f7f7f; text-decoration-color: #7f7f7f\">1132</span></a>\n",
       "<span style=\"color: #7fbfbf; text-decoration-color: #7fbfbf\">                    </span>         BaseNotebookInstanceEc2InstanceRole                                <span style=\"color: #7f7f7f; text-decoration-color: #7f7f7f\">                   </span>\n",
       "</pre>\n"
      ],
      "text/plain": [
       "\u001b[2;36m                   \u001b[0m\u001b[2;36m \u001b[0m\u001b[1;38;2;0;105;255mINFO    \u001b[0m Found credentials from IAM Role:                                   \u001b]8;id=103410;file:///home/ec2-user/anaconda3/envs/pytorch_p310/lib/python3.10/site-packages/botocore/credentials.py\u001b\\\u001b[2mcredentials.py\u001b[0m\u001b]8;;\u001b\\\u001b[2m:\u001b[0m\u001b]8;id=41876;file:///home/ec2-user/anaconda3/envs/pytorch_p310/lib/python3.10/site-packages/botocore/credentials.py#1132\u001b\\\u001b[2m1132\u001b[0m\u001b]8;;\u001b\\\n",
       "\u001b[2;36m                    \u001b[0m         BaseNotebookInstanceEc2InstanceRole                                \u001b[2m                   \u001b[0m\n"
      ]
     },
     "metadata": {},
     "output_type": "display_data"
    }
   ],
   "source": [
    "!pip install transformers --quiet\n",
    "\n",
    "import os\n",
    "import torch\n",
    "from transformers import AutoModelForSequenceClassification, AutoTokenizer\n",
    "\n",
    "from sagemaker import get_execution_role\n",
    "import boto3\n",
    "import sagemaker\n",
    "\n",
    "#account_id = \"<redacted>\"\n",
    "role = get_execution_role()\n",
    "region = boto3.Session().region_name\n",
    "sagemaker_session = sagemaker.session.Session()\n",
    "bucket = sagemaker_session.default_bucket()\n",
    "prefix = \"multimodel-classification\"\n",
    "sm_client = boto3.client(\"sagemaker\")"
   ]
  },
  {
   "cell_type": "code",
   "execution_count": 20,
   "id": "1b1465eb-39d8-4d73-bc49-e93d56e2a62e",
   "metadata": {},
   "outputs": [],
   "source": [
    "# #HF_TOKEN = \"<redacted>\"\n",
    "\n",
    "# models = [\n",
    "#     \"jordanfan/modernBERT_depression\",\n",
    "#     \"jordanfan/modernBERT_suicide_base\",\n",
    "#     \"jordanfan/mental-roberta_depression_v2\", # Needed to upload manually \n",
    "#     \"jordanfan/mental-BERT_depression_v2\", # Needed to upload manually \n",
    "# ]\n",
    "\n",
    "# for model_name in models: \n",
    "#     print(model_name)\n",
    "#     model_path = f\"models/{model_name.split('/')[-1]}/model\"\n",
    "#     if not os.path.exists(model_path):\n",
    "#         os.mkdir(model_path)\n",
    "\n",
    "#     tokenizer = AutoTokenizer.from_pretrained(model_name,\n",
    "#                                               token = HF_TOKEN)\n",
    "#     model = AutoModelForSequenceClassification.from_pretrained(model_name,\n",
    "#                                                               token = HF_TOKEN)\n",
    "#     model.save_pretrained(save_directory = model_path)\n",
    "#     #Manually save models weights as pytorch_model.bin \n",
    "#     torch.save(model.state_dict(), f\"{model_path}/pytorch_model.bin\")\n",
    "#     tokenizer.save_pretrained(save_directory = model_path)"
   ]
  },
  {
   "cell_type": "code",
   "execution_count": 21,
   "id": "5f6b0982-eb36-4daf-8531-16e67014aee0",
   "metadata": {},
   "outputs": [],
   "source": [
    "# #Copy over BERT inference script for each classification folder\n",
    "# #Make slight changes to replace BERT_tokenizer with AutoTokenizer and BERTModel with AutoModelForSequenceClassification\n",
    "\n",
    "# !mkdir models/modernBERT_depression/code\n",
    "# ! cp source_dir/model1/inference.py models/modernBERT_depression/code/inference.py\n",
    "\n",
    "# !mkdir models/modernBERT_suicide_base/code\n",
    "# ! cp source_dir/model1/inference.py models/modernBERT_suicide_base/code/inference.py\n",
    "\n",
    "# !mkdir models/mental-BERT_depression/code\n",
    "# ! cp source_dir/model1/inference.py models/mental-BERT_depression/code/inference.py\n",
    "\n",
    "# !mkdir models/mental-roberta_depression/code\n",
    "# ! cp source_dir/model1/inference.py models/mental-roberta_depression/code/inference.py\n"
   ]
  },
  {
   "cell_type": "code",
   "execution_count": 48,
   "id": "4ebf17bb-4c60-4fae-beca-1d618a0fffdb",
   "metadata": {},
   "outputs": [
    {
     "name": "stdout",
     "output_type": "stream",
     "text": [
      "./\n",
      "./model/\n",
      "./model/special_tokens_map.json\n",
      "./model/model.safetensors\n",
      "./model/config.json\n",
      "./model/tokenizer.json\n",
      "./model/pytorch_model.bin\n",
      "./model/tokenizer_config.json\n",
      "./.ipynb_checkpoints/\n",
      "./code/\n",
      "./code/.ipynb_checkpoints/\n",
      "./code/.ipynb_checkpoints/inference-checkpoint.py\n",
      "./code/inference.py\n"
     ]
    }
   ],
   "source": [
    "# Compress files into tar file\n",
    "# !tar -czvf models/modernBERT_depression.tar.gz -C models/modernBERT_depression/ .\n",
    "# !tar -czvf models/modernBERT_suicide_base.tar.gz -C models/modernBERT_suicide_base/ .\n",
    "# !tar -czvf models/mental-BERT_depression.tar.gz -C models/mental-BERT_depression/ .\n",
    "# !tar -czvf models/mental-roberta_depression.tar.gz -C models/mental-roberta_depression/ .\n"
   ]
  },
  {
   "cell_type": "code",
   "execution_count": 49,
   "id": "41d493ad-0d8e-4df1-932c-597f1b7d228f",
   "metadata": {},
   "outputs": [
    {
     "data": {
      "text/plain": [
       "'s3://my-genzen-bucket/multimodel-classification/models/modernBERT_suicide_base.tar.gz'"
      ]
     },
     "execution_count": 49,
     "metadata": {},
     "output_type": "execute_result"
    }
   ],
   "source": [
    "# # Upload into S3 bucket \n",
    "# from sagemaker.s3 import S3Uploader\n",
    "\n",
    "# bucket = \"my-genzen-bucket\"\n",
    "\n",
    "# models_path = 's3://{0}/{1}/models'.format(bucket,prefix)\n",
    "\n",
    "# S3Uploader.upload('models/mental-BERT_depression.tar.gz', models_path)\n",
    "# S3Uploader.upload('models/mental-roberta_depression.tar.gz', models_path)\n",
    "# S3Uploader.upload('models/modernBERT_depression.tar.gz', models_path)\n",
    "# S3Uploader.upload('models/modernBERT_suicide_base.tar.gz', models_path)"
   ]
  },
  {
   "cell_type": "markdown",
   "id": "ca2e0807-49e2-4d47-9d75-da2be61c82bd",
   "metadata": {},
   "source": [
    "# Deploy Multi-Model Endpoint"
   ]
  },
  {
   "cell_type": "code",
   "execution_count": 85,
   "id": "5839657a-adb7-4908-b873-f0f3f4278430",
   "metadata": {},
   "outputs": [
    {
     "data": {
      "text/html": [
       "<pre style=\"white-space:pre;overflow-x:auto;line-height:normal;font-family:Menlo,'DejaVu Sans Mono',consolas,'Courier New',monospace\"><span style=\"color: #7fbfbf; text-decoration-color: #7fbfbf\">[03/16/25 21:49:34] </span><span style=\"color: #0069ff; text-decoration-color: #0069ff; font-weight: bold\">INFO    </span> Defaulting to only available Python version: py311                   <a href=\"file:///home/ec2-user/anaconda3/envs/pytorch_p310/lib/python3.10/site-packages/sagemaker/image_uris.py\" target=\"_blank\"><span style=\"color: #7f7f7f; text-decoration-color: #7f7f7f\">image_uris.py</span></a><span style=\"color: #7f7f7f; text-decoration-color: #7f7f7f\">:</span><a href=\"file:///home/ec2-user/anaconda3/envs/pytorch_p310/lib/python3.10/site-packages/sagemaker/image_uris.py#610\" target=\"_blank\"><span style=\"color: #7f7f7f; text-decoration-color: #7f7f7f\">610</span></a>\n",
       "</pre>\n"
      ],
      "text/plain": [
       "\u001b[2;36m[03/16/25 21:49:34]\u001b[0m\u001b[2;36m \u001b[0m\u001b[1;38;2;0;105;255mINFO    \u001b[0m Defaulting to only available Python version: py311                   \u001b]8;id=470428;file:///home/ec2-user/anaconda3/envs/pytorch_p310/lib/python3.10/site-packages/sagemaker/image_uris.py\u001b\\\u001b[2mimage_uris.py\u001b[0m\u001b]8;;\u001b\\\u001b[2m:\u001b[0m\u001b]8;id=54412;file:///home/ec2-user/anaconda3/envs/pytorch_p310/lib/python3.10/site-packages/sagemaker/image_uris.py#610\u001b\\\u001b[2m610\u001b[0m\u001b]8;;\u001b\\\n"
      ]
     },
     "metadata": {},
     "output_type": "display_data"
    }
   ],
   "source": [
    "from sagemaker import image_uris\n",
    "# Create custom image with appropriate pytorch and transformer requirements \n",
    "image_uri = image_uris.retrieve(\n",
    "    framework = \"huggingface\",\n",
    "    region = region, \n",
    "    version='4.48.0', #transformers version \n",
    "\tbase_framework_version='pytorch2.3.0', #pytorch version \n",
    "    image_scope = \"inference\",\n",
    "    instance_type='ml.m5.xlarge')\n",
    "\n",
    "multimodels_path = f's3://my-genzen-bucket/{prefix}/models/'\n",
    "\n",
    "deployment_name = \"huggingface-multi-model-classification\"\n",
    "\n",
    "primary_container = {\n",
    "    'Image': image_uri,\n",
    "    'Mode': 'MultiModel',\n",
    "    'ModelDataUrl': multimodels_path,\n",
    "    'Environment': {\n",
    "        'SAGEMAKER_PROGRAM': 'inference.py',\n",
    "        'SAGEMAKER_REGION': region,\n",
    "        'SAGEMAKER_SUBMIT_DIRECTORY': multimodels_path\n",
    "    }\n",
    "}"
   ]
  },
  {
   "cell_type": "code",
   "execution_count": 86,
   "id": "69807e89-7c60-46c1-b17c-b212b3ade35f",
   "metadata": {},
   "outputs": [],
   "source": [
    "create_model_response = sm_client.create_model(ModelName = deployment_name,\n",
    "                                              ExecutionRoleArn = get_execution_role(),\n",
    "                                              PrimaryContainer = primary_container)\n"
   ]
  },
  {
   "cell_type": "code",
   "execution_count": 87,
   "id": "ae4a2fc5-ad3a-4e6c-9621-473e1405c0fa",
   "metadata": {},
   "outputs": [
    {
     "name": "stdout",
     "output_type": "stream",
     "text": [
      "Endpoint configuration arn:  arn:aws:sagemaker:us-east-2:975049977273:endpoint-config/huggingface-multi-model-classification-epc\n",
      "EndpointArn = arn:aws:sagemaker:us-east-2:975049977273:endpoint/huggingface-multi-model-classification-ep\n"
     ]
    }
   ],
   "source": [
    "# create SageMaker Endpoint configuration\n",
    "endpoint_config_response = sm_client.create_endpoint_config(\n",
    "    EndpointConfigName = f\"{deployment_name}-epc\",\n",
    "    ProductionVariants=[\n",
    "        {\n",
    "        'InstanceType':'ml.m5.xlarge',\n",
    "        'InitialInstanceCount':1,\n",
    "        'ModelName': deployment_name,\n",
    "        'VariantName':'AllTraffic',\n",
    "        'InitialVariantWeight':1\n",
    "        }\n",
    "    ])\n",
    "\n",
    "print('Endpoint configuration arn:  {}'.format(endpoint_config_response['EndpointConfigArn']))\n",
    "\n",
    "# create SageMaker Endpoint\n",
    "endpoint_params = {\n",
    "    'EndpointName': f\"{deployment_name}-ep\",\n",
    "    'EndpointConfigName': f\"{deployment_name}-epc\",\n",
    "}\n",
    "endpoint_response = sm_client.create_endpoint(**endpoint_params)\n",
    "print('EndpointArn = {}'.format(endpoint_response['EndpointArn']))"
   ]
  },
  {
   "cell_type": "code",
   "execution_count": 99,
   "id": "5de68f27-725b-44cc-b138-8e2f2076d7aa",
   "metadata": {},
   "outputs": [],
   "source": [
    "import boto3\n",
    "\n",
    "invoke_client = boto3.client('sagemaker-runtime')\n",
    "\n",
    "prompt = \"I feel so lost and I am so stressed. I want to kill myself. I feel so horrible and hate myself\"\n",
    "\n",
    "response = invoke_client.invoke_endpoint(EndpointName=f\"{deployment_name}-ep\",\n",
    "                              TargetModel='modernBERT_suicide_base.tar.gz',\n",
    "                              Body=prompt.encode(encoding='UTF-8'),\n",
    "                              ContentType='text/csv')\n",
    "suicide_probas = response[\"Body\"].read()"
   ]
  },
  {
   "cell_type": "code",
   "execution_count": 100,
   "id": "90714c7c-916c-464a-ae0c-ee2c08a5b7f5",
   "metadata": {},
   "outputs": [
    {
     "data": {
      "text/plain": [
       "b'[0.49434823 0.12845325 0.37719852]'"
      ]
     },
     "execution_count": 100,
     "metadata": {},
     "output_type": "execute_result"
    }
   ],
   "source": [
    "suicide_probas"
   ]
  },
  {
   "cell_type": "code",
   "execution_count": 9,
   "id": "6b05be24-46c7-4332-94da-9850f2bdc77b",
   "metadata": {},
   "outputs": [],
   "source": [
    "response = invoke_client.invoke_endpoint(EndpointName=f\"{deployment_name}-ep\",\n",
    "                              TargetModel='modernBERT_depression.tar.gz',\n",
    "                              Body=prompt.encode(encoding='UTF-8'),\n",
    "                              ContentType='text/csv')\n",
    "depression_modernbert_proba = response[\"Body\"].read()"
   ]
  },
  {
   "cell_type": "code",
   "execution_count": 10,
   "id": "0d830c7e-aaf3-4a54-8d3d-9cebd9a1169e",
   "metadata": {},
   "outputs": [
    {
     "data": {
      "text/plain": [
       "b'[4.8430782e-04 2.2920099e-01 7.7031475e-01]'"
      ]
     },
     "execution_count": 10,
     "metadata": {},
     "output_type": "execute_result"
    }
   ],
   "source": [
    "depression_modernbert_proba"
   ]
  },
  {
   "cell_type": "code",
   "execution_count": 11,
   "id": "73172355-abbb-4b00-a60c-54de50b7dd4a",
   "metadata": {},
   "outputs": [],
   "source": [
    "response = invoke_client.invoke_endpoint(EndpointName=f\"{deployment_name}-ep\",\n",
    "                              TargetModel='mental-BERT_depression.tar.gz',\n",
    "                              Body=prompt.encode(encoding='UTF-8'),\n",
    "                              ContentType='text/csv')\n",
    "depression_mental_bert_proba = response[\"Body\"].read()"
   ]
  },
  {
   "cell_type": "code",
   "execution_count": 12,
   "id": "9cddf55a-5f9f-4bdd-b028-0aa53c9c10eb",
   "metadata": {},
   "outputs": [
    {
     "data": {
      "text/plain": [
       "b'[3.5191016e-04 1.6750398e-01 8.3214408e-01]'"
      ]
     },
     "execution_count": 12,
     "metadata": {},
     "output_type": "execute_result"
    }
   ],
   "source": [
    "depression_mental_bert_proba"
   ]
  },
  {
   "cell_type": "code",
   "execution_count": 13,
   "id": "75268b5c-d707-4649-b926-9480c48f822c",
   "metadata": {},
   "outputs": [],
   "source": [
    "response = invoke_client.invoke_endpoint(EndpointName=f\"{deployment_name}-ep\",\n",
    "                              TargetModel='mental-roberta_depression.tar.gz',\n",
    "                              Body=prompt.encode(encoding='UTF-8'),\n",
    "                              ContentType='text/csv')\n",
    "depression_mental_roberta_proba = response[\"Body\"].read()"
   ]
  },
  {
   "cell_type": "code",
   "execution_count": 14,
   "id": "10d4c13f-f291-4c20-90ba-e2a7c8ac8fa5",
   "metadata": {},
   "outputs": [
    {
     "data": {
      "text/plain": [
       "b'[6.0263724e-04 2.3136440e-01 7.6803297e-01]'"
      ]
     },
     "execution_count": 14,
     "metadata": {},
     "output_type": "execute_result"
    }
   ],
   "source": [
    "depression_mental_roberta_proba"
   ]
  },
  {
   "cell_type": "code",
   "execution_count": 134,
   "id": "7fcb2801-1e22-4036-8204-505faf181c1a",
   "metadata": {},
   "outputs": [
    {
     "data": {
      "text/plain": [
       "{'ResponseMetadata': {'RequestId': 'bb4387d9-5461-4d81-a58e-7e95d870ac83',\n",
       "  'HTTPStatusCode': 200,\n",
       "  'HTTPHeaders': {'x-amzn-requestid': 'bb4387d9-5461-4d81-a58e-7e95d870ac83',\n",
       "   'content-type': 'application/x-amz-json-1.1',\n",
       "   'date': 'Sun, 16 Mar 2025 22:18:46 GMT',\n",
       "   'content-length': '0'},\n",
       "  'RetryAttempts': 0}}"
      ]
     },
     "execution_count": 134,
     "metadata": {},
     "output_type": "execute_result"
    }
   ],
   "source": [
    "sm_client.delete_model(ModelName=deployment_name)\n",
    "sm_client.delete_endpoint_config(EndpointConfigName=f\"{deployment_name}-epc\")\n",
    "sm_client.delete_endpoint(EndpointName=f\"{deployment_name}-ep\")"
   ]
  },
  {
   "cell_type": "code",
   "execution_count": null,
   "id": "e1727bd9-21f1-4637-8944-51fe5876588d",
   "metadata": {},
   "outputs": [],
   "source": []
  }
 ],
 "metadata": {
  "kernelspec": {
   "display_name": "conda_pytorch_p310",
   "language": "python",
   "name": "conda_pytorch_p310"
  },
  "language_info": {
   "codemirror_mode": {
    "name": "ipython",
    "version": 3
   },
   "file_extension": ".py",
   "mimetype": "text/x-python",
   "name": "python",
   "nbconvert_exporter": "python",
   "pygments_lexer": "ipython3",
   "version": "3.10.14"
  }
 },
 "nbformat": 4,
 "nbformat_minor": 5
}
