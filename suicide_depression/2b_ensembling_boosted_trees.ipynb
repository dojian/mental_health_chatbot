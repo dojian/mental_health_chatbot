{
 "cells": [
  {
   "cell_type": "code",
   "execution_count": 2,
   "id": "30deeb9d",
   "metadata": {},
   "outputs": [],
   "source": [
    "import warnings \n",
    "warnings.filterwarnings(\"ignore\")\n",
    "\n",
    "from sklearn.metrics import accuracy_score, precision_recall_fscore_support, classification_report, confusion_matrix\n",
    "from sklearn.model_selection import train_test_split, cross_val_score, GridSearchCV, RepeatedStratifiedKFold\n",
    "import numpy as np\n",
    "import pandas as pd\n",
    "import pickle\n",
    "import lightgbm as lgb"
   ]
  },
  {
   "cell_type": "code",
   "execution_count": 3,
   "id": "6152dde3",
   "metadata": {},
   "outputs": [],
   "source": [
    "with open(\"probas_val.pkl\", \"rb\") as f: \n",
    "    probas_val = pickle.load(f)\n",
    "probas_val.drop(columns = [\"index\"], inplace = True)\n",
    "y_val = np.array(probas_val[\"class\"])\n",
    "val_proba = np.array(probas_val.drop(columns = [\"class\"]))\n",
    "val_proba_train, val_proba_validation, y_val_train, y_val_validation = train_test_split(\n",
    "    val_proba, y_val, test_size=0.1, random_state=42)"
   ]
  },
  {
   "cell_type": "code",
   "execution_count": 4,
   "id": "2ef01ea7",
   "metadata": {},
   "outputs": [],
   "source": [
    "#Set to large number, set early stopping rounds\n",
    "n_estimators = [2000]\n",
    "#Smaller dataset, try reducing learning rate\n",
    "learning_rate = [0.001, 0.01]\n",
    "#tree grows leaf wise instead of depth wise for lightgbm, focus on tuning num leaves\n",
    "num_leaves = [5, 10, 15, 20, 50]\n",
    "#set number of entries needed in a leaf to prevent overfitting\n",
    "min_child_samples = [10, 25, 50, 100]\n",
    "#could be redundancy in predictions since models can be similar,\n",
    "#set L1 regularization to drop out unnecessary features\n",
    "reg_alpha = [0.1, 0.2, 0.3]\n",
    "early_stopping_rounds = [50]\n",
    "random_state = [42]\n",
    "\n",
    "param_grid = {\"n_estimators\": n_estimators,\n",
    "              \"learning_rate\": learning_rate,\n",
    "              \"num_leaves\": num_leaves,\n",
    "              \"min_child_samples\": min_child_samples,\n",
    "              \"reg_alpha\": reg_alpha,\n",
    "              \"early_stopping_round\": early_stopping_rounds,\n",
    "              \"random_state\": random_state}"
   ]
  },
  {
   "cell_type": "code",
   "execution_count": 5,
   "id": "d29e892c",
   "metadata": {},
   "outputs": [
    {
     "name": "stdout",
     "output_type": "stream",
     "text": [
      "Fitting 5 folds for each of 120 candidates, totalling 600 fits\n",
      "[LightGBM] [Info] Total Bins 2295\n",
      "[LightGBM] [Info] Number of data points in the train set: 50118, number of used features: 9\n",
      "[LightGBM] [Info] Start training from score -1.099630\n",
      "[LightGBM] [Info] Start training from score -1.098732\n",
      "[LightGBM] [Info] Start training from score -1.097476\n",
      "Training until validation scores don't improve for 50 rounds\n",
      "Did not meet early stopping. Best iteration is:\n",
      "[2000]\tvalid_0's multi_logloss: 0.308071\n"
     ]
    },
    {
     "data": {
      "text/plain": [
       "{'early_stopping_round': 50,\n",
       " 'learning_rate': 0.001,\n",
       " 'min_child_samples': 10,\n",
       " 'n_estimators': 2000,\n",
       " 'num_leaves': 5,\n",
       " 'random_state': 42,\n",
       " 'reg_alpha': 0.1}"
      ]
     },
     "execution_count": 5,
     "metadata": {},
     "output_type": "execute_result"
    }
   ],
   "source": [
    "lgb_model = lgb.LGBMClassifier(force_row_wise = True)\n",
    "grid_search = GridSearchCV(estimator = lgb_model,\n",
    "                           param_grid = param_grid,\n",
    "                           cv = 5,\n",
    "                           n_jobs = -1,\n",
    "                           verbose = 2,\n",
    "                           scoring = \"f1\")\n",
    "grid_search.fit(val_proba_train, y_val_train, eval_set = [(val_proba_validation, y_val_validation)], eval_metric = \"logloss\")\n",
    "grid_search.best_params_"
   ]
  },
  {
   "cell_type": "code",
   "execution_count": null,
   "id": "6239e93b",
   "metadata": {},
   "outputs": [],
   "source": []
  }
 ],
 "metadata": {
  "kernelspec": {
   "display_name": "Python 3 (ipykernel)",
   "language": "python",
   "name": "python3"
  },
  "language_info": {
   "codemirror_mode": {
    "name": "ipython",
    "version": 3
   },
   "file_extension": ".py",
   "mimetype": "text/x-python",
   "name": "python",
   "nbconvert_exporter": "python",
   "pygments_lexer": "ipython3",
   "version": "3.10.16"
  }
 },
 "nbformat": 4,
 "nbformat_minor": 5
}
